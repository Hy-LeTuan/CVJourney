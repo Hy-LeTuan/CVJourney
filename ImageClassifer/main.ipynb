{
 "cells": [
  {
   "cell_type": "code",
   "execution_count": 2,
   "metadata": {},
   "outputs": [],
   "source": [
    "import os\n",
    "from glob import glob"
   ]
  },
  {
   "cell_type": "markdown",
   "metadata": {},
   "source": [
    "# The MNIST dataset\n",
    "\n",
    "The MNIST dataset contains hand-drawn images of digits from 0 - 9. The digits were digitally drawn on a black canvas with white paint.\n",
    "\n",
    "## Dataset structure\n",
    "\n",
    "The [MNIST](https://www.kaggle.com/datasets/scolianni/mnistasjpg) dataset contains a `trainingSet` with the images and the corresponding label for each image. The `testSet` contains unlabeled images that we could run inference on.\n",
    "\n",
    "# The image classifier\n",
    "\n",
    "## The image classifier input & output\n",
    "\n",
    "The image classifier will take in as input an image of a hand drawn image. Then it will analyze and give us a prediction on what it thinks the digit is.\n",
    "\n",
    "## The image classifier architecture\n",
    "\n",
    "The image classifier we are going to build is a Neural Network. Now the neural network will contain `linear layers` that will analyze the image and a `softmax layer` that will give us the prediction.\n",
    "\n",
    "## Training the image classifer\n",
    "\n",
    "To train our image classifier, we will need to feed our network images of the digits. The network will then give us a digit that it thinks the image represents. It is very likely that the network will answer wrong, because it hasn't learnt anything yet. To make it learn, we will punish it each time it makes a mistake and reward it each time it gives a correct answer. This punish and reward system will happen via a `loss function`."
   ]
  },
  {
   "cell_type": "markdown",
   "metadata": {},
   "source": [
    "# 1. Explore the dataset"
   ]
  },
  {
   "cell_type": "code",
   "execution_count": 3,
   "metadata": {},
   "outputs": [
    {
     "name": "stdout",
     "output_type": "stream",
     "text": [
      "./dataset/trainingSet/trainingSet/0/img_1.jpg\n"
     ]
    }
   ],
   "source": [
    "# python variables are named using snake_case where a space ' ' is represented by an underscore '_'\n",
    "\n",
    "# declaring a python variable with the = operator\n",
    "ds_root = \"./dataset/trainingSet/trainingSet\" # the path to the dataset. The '.' represents the current folder this file is in\n",
    "\n",
    "# the join function combines all the folders to create a path leading to the file\n",
    "image_path = os.path.join(ds_root, \"0\", \"img_1.jpg\") # this outputs: dataset/trainingSet/trainingSet/0/img_1.jpg\n",
    "\n",
    "# the print function is used to display\n",
    "print(image_path)"
   ]
  },
  {
   "cell_type": "code",
   "execution_count": 4,
   "metadata": {},
   "outputs": [
    {
     "data": {
      "text/plain": [
       "<matplotlib.image.AxesImage at 0x76b2f0e35f30>"
      ]
     },
     "execution_count": 4,
     "metadata": {},
     "output_type": "execute_result"
    },
    {
     "data": {
      "image/png": "[encoded data removed]",
      "text/plain": [
       "<Figure size 640x480 with 1 Axes>"
      ]
     },
     "metadata": {},
     "output_type": "display_data"
    }
   ],
   "source": [
    "import matplotlib.pyplot as plt\n",
    "\n",
    "# read the image using matplotlib\n",
    "image =  plt.imread(image_path)\n",
    "\n",
    "# show the image also using matplotlib\n",
    "plt.imshow(image, cmap=\"gray\")"
   ]
  },
  {
   "cell_type": "markdown",
   "metadata": {},
   "source": [
    "Now looking at this image, most of us would know that this is a zero. This is because we've seen so many zeros in our life that the classification happens subconciously and we don't even have to actively think about it. \n",
    "\n",
    "After training, the Neural Network will also have the ability to recognize that this is a 0 *(hopefully)*."
   ]
  },
  {
   "cell_type": "code",
   "execution_count": 5,
   "metadata": {},
   "outputs": [
    {
     "name": "stdout",
     "output_type": "stream",
     "text": [
      "first 10 images ---\n",
      "['./dataset/trainingSet/trainingSet/0/img_1.jpg', './dataset/trainingSet/trainingSet/0/img_10007.jpg', './dataset/trainingSet/trainingSet/0/img_10010.jpg', './dataset/trainingSet/trainingSet/0/img_10017.jpg', './dataset/trainingSet/trainingSet/0/img_10032.jpg', './dataset/trainingSet/trainingSet/0/img_10039.jpg', './dataset/trainingSet/trainingSet/0/img_10043.jpg', './dataset/trainingSet/trainingSet/0/img_10059.jpg', './dataset/trainingSet/trainingSet/0/img_10074.jpg', './dataset/trainingSet/trainingSet/0/img_10082.jpg']\n",
      "total image count\n",
      "42000\n"
     ]
    }
   ],
   "source": [
    "# next, we'll quantitize our dataset to see how much training data we have\n",
    "\n",
    "image_path_wild = os.path.join(ds_root, \"**\", \"*.jpg\") # the star '*' acts as a wildcard character. Meaning, any file that ends in .jpg will be selected\n",
    "\n",
    "all_images = sorted(glob(image_path_wild)) # get all image paths and sort them\n",
    "\n",
    "# show 10 first image path\n",
    "print('first 10 images ---')\n",
    "print(all_images[:10]) \n",
    "\n",
    "print('total image count')\n",
    "print(len(all_images)) # the len returns the length of a list"
   ]
  },
  {
   "cell_type": "code",
   "execution_count": 6,
   "metadata": {},
   "outputs": [
    {
     "name": "stdout",
     "output_type": "stream",
     "text": [
      "The number of image for digit: 0 is : 4132\n",
      "The number of image for digit: 1 is : 4684\n",
      "The number of image for digit: 2 is : 4177\n",
      "The number of image for digit: 3 is : 4351\n",
      "The number of image for digit: 4 is : 4072\n",
      "The number of image for digit: 5 is : 3795\n",
      "The number of image for digit: 6 is : 4137\n",
      "The number of image for digit: 7 is : 4401\n",
      "The number of image for digit: 8 is : 4063\n",
      "The number of image for digit: 9 is : 4188\n"
     ]
    }
   ],
   "source": [
    "# let's then see how many images each types of digits has\n",
    "\n",
    "# in python, to use a loop, we use the `for` keyword\n",
    "# the os.listdir function will list out all the top level files and folders in that directory\n",
    "for folder in sorted(os.listdir(ds_root)): \n",
    "    image_in_folder_path_list = os.path.join(ds_root, folder, \"*.jpg\") # wildcard to select all .jpg files like before\n",
    "    image_in_folder_list = glob(image_in_folder_path_list)\n",
    "\n",
    "    print(f\"The number of image for digit: {folder} is : {len(image_in_folder_list)}\") # f\"\" is a formatted string where you can insert variables in"
   ]
  },
  {
   "cell_type": "markdown",
   "metadata": {},
   "source": [
    "# 2. Splitting the dataset\n",
    "\n",
    "After exploring the dataset, we now need to determine how much of it we are going to use to train the model, and how much of it we are going to use to test the model out on how its learning process is going.\n",
    "\n",
    "The usual ratio for splitting the dataset is 80% training data and 20% testing data. To achieve this, we use the `train_test_split` function imported from `sklearn.model_selection`. The output of this function is an array of 2 items: `[train_data, test_data]`, and we will receive this into 2 varialbes using the form `x, y = [a, b]` where `x = a` and `y = b`."
   ]
  },
  {
   "cell_type": "code",
   "execution_count": 7,
   "metadata": {},
   "outputs": [
    {
     "name": "stdout",
     "output_type": "stream",
     "text": [
      "number of images for training:\n",
      "33600\n",
      "number of images for testing:\n",
      "8400\n"
     ]
    }
   ],
   "source": [
    "from sklearn.model_selection import train_test_split\n",
    "\n",
    "# to split the images, we will gather all the image path\n",
    "all_images = sorted(glob(os.path.join(ds_root, \"**\", \"*.jpg\")))\n",
    "\n",
    "train_split, test_split = train_test_split(all_images, test_size=0.2) # this will split the dataset into 80% training data and 20% testing data\n",
    "\n",
    "print(\"number of images for training:\")\n",
    "print(len(train_split))\n",
    "\n",
    "print(\"number of images for testing:\")\n",
    "print(len(test_split))"
   ]
  },
  {
   "cell_type": "markdown",
   "metadata": {},
   "source": [
    "# 3. Creating data loaders\n",
    "\n",
    "We have successfully splitted the dataset into training data and testing data. Next, we need a way to get these images randomly at any arbitrary amount at a time so that we can feed them to the image classifier.\n",
    "\n",
    "To do that, we will explore the `DataLoader` and `Dataset` classes from `PyTorch` and how we can define functions and classes in Python.\n",
    " \n",
    "## Dataset\n",
    "\n",
    "The purpoes of the Dataset is to return an image and its label based on any index we give it. For example if i give it index = 1, it will return the image at position 1 and its corresponding label. \n",
    "\n",
    "More specifically, the image has to be an array of values so that the neural network can understand and compute and these values have to be in floating point numbers. Ideally, the image values are also normalized in the range of $[0, 1]$ so that the model can better understand the values and not have sudden spike or drop in its performance.\n",
    "\n",
    "## DataLoader\n",
    "\n",
    "The purpose of the DataLoader is to batch and shuffle the dataset. Meaning, it will shuffle the dataset in random order and give out a batch of images and labels corresponding to the batch size we specify each time we tell it to. The DataLoader is also iterable, which allows us to loop through its elements (the image label pair)."
   ]
  },
  {
   "cell_type": "code",
   "execution_count": 8,
   "metadata": {},
   "outputs": [],
   "source": [
    "from torch.utils.data import Dataset, DataLoader\n",
    "import torch\n",
    "import numpy as np\n",
    "\n",
    "# using the class keyword is how we define a class in Python\n",
    "# when defining a class, anything in parenthesis means we are inheriting from that class too for our class definition\n",
    "class MnistDataset(Dataset):\n",
    "    \"\"\"\n",
    "    inherting from the torch.utils.data.Dataset class to make our dataset compatible with the PyTorch API\n",
    "    \"\"\"\n",
    "    def __init__(self, image_path): \n",
    "        \"\"\"\n",
    "        the init method is called when you first instantiate an instance of this class\n",
    "        arguments:\n",
    "        image_path: all the image path available in the dataset\n",
    "        \"\"\"\n",
    "        self.image_path = image_path\n",
    "\n",
    "    def __len__(self):\n",
    "        \"\"\"\n",
    "        this function returns the length of the dataset when the len() function is invoked\n",
    "        \"\"\"\n",
    "        return len(self.image_path)\n",
    "\n",
    "    def __getitem__(self, index):\n",
    "        \"\"\"\n",
    "        this function will return the image and its label according to the index argument\n",
    "        argument:\n",
    "        index: the order of the iamge label pair of the dataset\n",
    "        \"\"\"\n",
    "        image_path = self.image_path[index] # the image path will have the form \"./dataset/trainingSet/trainingSet/0/img_1.jpg\"\n",
    "\n",
    "        # converts this into a numpy array and normalize its values in the range [0, 1] because the max value inside any image is 255\n",
    "        image_array = np.array(plt.imread(image_path))  / 255 \n",
    "        image_tensor = torch.from_numpy(image_array).float()\n",
    "\n",
    "        label = int(image_path.split(\"/\")[-2]) # get the folder of the path\n",
    "\n",
    "        return [image_tensor, label]"
   ]
  },
  {
   "cell_type": "code",
   "execution_count": 9,
   "metadata": {},
   "outputs": [
    {
     "name": "stdout",
     "output_type": "stream",
     "text": [
      "train dataset length: 33600\n",
      "image array shape:  torch.Size([28, 28])\n",
      "image label:  2\n"
     ]
    }
   ],
   "source": [
    "# this is how we initialize a class instance, by calling the class name\n",
    "train_dataset = MnistDataset(image_path=train_split) # all the variables in the initialization will be received by the __init__ method\n",
    "test_dataset = MnistDataset(image_path=test_split)\n",
    "\n",
    "print(\"train dataset length:\", len(train_dataset))\n",
    "\n",
    "image, label = train_dataset[0] # the index will be received by the __getitem__ method\n",
    "\n",
    "print(\"image array shape: \", image.shape)\n",
    "print(\"image label: \", label)"
   ]
  },
  {
   "cell_type": "code",
   "execution_count": 10,
   "metadata": {},
   "outputs": [
    {
     "name": "stdout",
     "output_type": "stream",
     "text": [
      "number of images in each step out of loader:  8\n",
      "number of labels in each step out of loader:  8\n"
     ]
    }
   ],
   "source": [
    "train_loader = DataLoader(train_dataset, batch_size=8, shuffle=True)\n",
    "test_loader = DataLoader(test_dataset, batch_size=8, shuffle=True)\n",
    "\n",
    "images, labels = next(iter(train_loader))\n",
    "\n",
    "print(\"number of images in each step out of loader: \", len(images))\n",
    "print(\"number of labels in each step out of loader: \", len(labels))"
   ]
  },
  {
   "cell_type": "markdown",
   "metadata": {},
   "source": [
    "# 4. Model\n",
    "\n",
    "The model architecture includes a `Flatten` layer and 5 `Linear` layers, of which 4 are normal layers and the final one is the output layer.\n",
    "\n",
    "1. The `Flatten` layer is to flatten our image with *width* and *height* of `28px x 28px` to a flat array with size of $28 * 28 = 784$ numbers. \n",
    "2. The `Linear` layer is a matrix multiplication of the input and the output. The main idea of the linear is to transform the output into some matrix of different dimensions that the model can understand better. Many linear layers also exposes many different features of the image.\n",
    "3. The output `Linear` layer has the output of shape: $10$ which is the number of digits avaiable. This layer transform the model's understanding of the image into its choices. The $10$ numbers in the model output is how confidence the model is on which digit the image is supposed to be. For example, the output of the model is: `[1, 4, 2, 8, 7, 4, 1, 1, 2, 6]`, the model is most confident that the image is the number $3$ since the score at number $3$ is $8$.\n",
    "\n",
    "The `forward` method is used to process the input with each of the model layers. It takes an argumnt `x` as the input, which is the normalized image array. It then calls the `flatten` layer to flatten the image into a $1D$ array. Then it calls the linear layers consecutively to extract important features from the image. Finally, it calls the `output` layer to transform the array into an array of its choices."
   ]
  },
  {
   "cell_type": "code",
   "execution_count": 11,
   "metadata": {},
   "outputs": [],
   "source": [
    "import torch.nn as nn\n",
    "\n",
    "class ImageClassifer(nn.Module):\n",
    "    def __init__(self, image_width=28, image_height=28, num_classes=10):\n",
    "        super().__init__()\n",
    "\n",
    "        flatten_dim = image_width * image_height\n",
    "\n",
    "        self.flatten = nn.Flatten(start_dim=1, end_dim=-1)\n",
    "        self.linear_1 = nn.Linear(in_features=flatten_dim, out_features=flatten_dim)\n",
    "        self.linear_2 = nn.Linear(in_features=flatten_dim, out_features=flatten_dim)\n",
    "        self.linear_3 = nn.Linear(in_features=flatten_dim, out_features=flatten_dim)\n",
    "        self.linear_4 = nn.Linear(in_features=flatten_dim, out_features=flatten_dim)\n",
    "\n",
    "        self.out = nn.Linear(in_features=flatten_dim, out_features=num_classes)\n",
    "    \n",
    "    def forward(self, x):\n",
    "        x = self.flatten(x)\n",
    "        x = self.linear_1(x)\n",
    "        x = self.linear_2(x)\n",
    "        x = self.linear_3(x)\n",
    "        x = self.linear_4(x)\n",
    "        x = self.out(x)\n",
    "\n",
    "        return x"
   ]
  },
  {
   "cell_type": "code",
   "execution_count": 12,
   "metadata": {},
   "outputs": [],
   "source": [
    "images, labels = next(iter(train_loader))\n",
    "model = ImageClassifer()"
   ]
  },
  {
   "cell_type": "code",
   "execution_count": 13,
   "metadata": {},
   "outputs": [
    {
     "name": "stdout",
     "output_type": "stream",
     "text": [
      "output shape:  torch.Size([8, 10])\n"
     ]
    }
   ],
   "source": [
    "out = model(images)\n",
    "print(\"output shape: \", out.shape)"
   ]
  },
  {
   "cell_type": "markdown",
   "metadata": {},
   "source": [
    "# 5. Train the model\n",
    "\n",
    "This is the training loop to train the model. It involves punishing the model through the `loss_fn` variable, which is the loss function. The model is then optimized based on the loss function with the `optimizer`."
   ]
  },
  {
   "cell_type": "code",
   "execution_count": null,
   "metadata": {},
   "outputs": [],
   "source": [
    "from tqdm import tqdm\n",
    "\n",
    "def train_one_epoch(model : ImageClassifer, loader : DataLoader, optimizer, loss_fn, device=torch.device(\"cuda\")):\n",
    "    model.train(True)\n",
    "\n",
    "    # training loop\n",
    "    running_loss = 0\n",
    "    pbar = tqdm(enumerate(loader), total=len(loader), desc=\"Step: 0 | Train loss: 0\")\n",
    "\n",
    "    for i, (images, labels) in pbar:\n",
    "        images = images.to(device)\n",
    "        labels = labels.to(device)\n",
    "\n",
    "        optimizer.zero_grad()\n",
    "\n",
    "        output = model(images)\n",
    "\n",
    "        loss = loss_fn(output, labels)\n",
    "\n",
    "        loss.backward()\n",
    "        optimizer.step()\n",
    "\n",
    "        running_loss += loss.item()\n",
    "\n",
    "    pbar.set_description_str(f\"Step: {len(loader) - 1} | Train loss: {running_loss / len(loader)}\")\n",
    "\n",
    "    return running_loss / len(loader)\n",
    "\n",
    "def test_one_epoch(model : ImageClassifer, loader : DataLoader, loss_fn, device=torch.device(\"cuda\")):\n",
    "    model.eval()\n",
    "\n",
    "    # training loop\n",
    "    running_loss = 0\n",
    "    pbar = tqdm(enumerate(loader), total=len(loader), desc=\"Step: 0 | Test loss: 0\")\n",
    "\n",
    "    for i, (images, labels) in pbar:\n",
    "        images = images.to(device)\n",
    "        labels = labels.to(device)\n",
    "\n",
    "        output = model(images)\n",
    "\n",
    "        loss = loss_fn(output, labels)\n",
    "\n",
    "        running_loss += loss.item()\n",
    "\n",
    "    pbar.set_description_str(f\"Step: {len(loader) - 1} | Test loss: {running_loss / len(loader)}\")\n",
    "    return running_loss / len(loader)"
   ]
  },
  {
   "cell_type": "code",
   "execution_count": 15,
   "metadata": {},
   "outputs": [
    {
     "name": "stdout",
     "output_type": "stream",
     "text": [
      "START TRAINING\n",
      "---------\n"
     ]
    },
    {
     "name": "stderr",
     "output_type": "stream",
     "text": [
      "Step: 0 | Train loss: 0: 100%|██████████| 4200/4200 [00:18<00:00, 228.88it/s]\n",
      "Step: 0 | Test loss: 0: 100%|██████████| 1050/1050 [00:02<00:00, 376.05it/s]\n",
      " 10%|█         | 1/10 [00:21<03:10, 21.15s/it]"
     ]
    },
    {
     "name": "stdout",
     "output_type": "stream",
     "text": [
      "Model improved on epoch: 0 | Train loss: 0.4911493768742574 | Test loss: 0.30721497509229395\n"
     ]
    },
    {
     "name": "stderr",
     "output_type": "stream",
     "text": [
      "Step: 0 | Train loss: 0: 100%|██████████| 4200/4200 [00:13<00:00, 304.70it/s]\n",
      "Step: 0 | Test loss: 0: 100%|██████████| 1050/1050 [00:01<00:00, 740.87it/s]\n",
      " 20%|██        | 2/10 [00:36<02:21, 17.65s/it]"
     ]
    },
    {
     "name": "stdout",
     "output_type": "stream",
     "text": [
      "Model improved on epoch: 1 | Train loss: 0.3057368470230583 | Test loss: 0.28482894851426993\n"
     ]
    },
    {
     "name": "stderr",
     "output_type": "stream",
     "text": [
      "Step: 0 | Train loss: 0: 100%|██████████| 4200/4200 [00:14<00:00, 299.79it/s]\n",
      "Step: 0 | Test loss: 0: 100%|██████████| 1050/1050 [00:01<00:00, 707.24it/s]\n",
      " 30%|███       | 3/10 [00:51<01:56, 16.67s/it]"
     ]
    },
    {
     "name": "stdout",
     "output_type": "stream",
     "text": [
      "Model improved on epoch: 2 | Train loss: 0.28421957896589967 | Test loss: 0.27135212562534783\n"
     ]
    },
    {
     "name": "stderr",
     "output_type": "stream",
     "text": [
      "Step: 0 | Train loss: 0: 100%|██████████| 4200/4200 [00:13<00:00, 310.94it/s]\n",
      "Step: 0 | Test loss: 0: 100%|██████████| 1050/1050 [00:01<00:00, 775.66it/s]\n",
      " 40%|████      | 4/10 [01:06<01:35, 15.96s/it]"
     ]
    },
    {
     "name": "stdout",
     "output_type": "stream",
     "text": [
      "Model did not improve on epoch: 3 | Train loss: 0.2714838197438179 | Test loss: 0.27924839487809333\n"
     ]
    },
    {
     "name": "stderr",
     "output_type": "stream",
     "text": [
      "Step: 0 | Train loss: 0: 100%|██████████| 4200/4200 [00:12<00:00, 323.34it/s]\n",
      "Step: 0 | Test loss: 0: 100%|██████████| 1050/1050 [00:01<00:00, 763.49it/s]\n",
      " 50%|█████     | 5/10 [01:21<01:16, 15.38s/it]"
     ]
    },
    {
     "name": "stdout",
     "output_type": "stream",
     "text": [
      "Model did not improve on epoch: 4 | Train loss: 0.26369083186722403 | Test loss: 0.27697781750865813\n"
     ]
    },
    {
     "name": "stderr",
     "output_type": "stream",
     "text": [
      "Step: 0 | Train loss: 0: 100%|██████████| 4200/4200 [00:13<00:00, 305.15it/s]\n",
      "Step: 0 | Test loss: 0: 100%|██████████| 1050/1050 [00:01<00:00, 710.98it/s]\n",
      " 60%|██████    | 6/10 [01:36<01:01, 15.34s/it]"
     ]
    },
    {
     "name": "stdout",
     "output_type": "stream",
     "text": [
      "Model did not improve on epoch: 5 | Train loss: 0.2560197709147663 | Test loss: 0.28830520308709573\n"
     ]
    },
    {
     "name": "stderr",
     "output_type": "stream",
     "text": [
      "Step: 0 | Train loss: 0: 100%|██████████| 4200/4200 [00:13<00:00, 306.62it/s]\n",
      "Step: 0 | Test loss: 0: 100%|██████████| 1050/1050 [00:01<00:00, 722.05it/s]\n",
      " 70%|███████   | 7/10 [01:51<00:45, 15.28s/it]"
     ]
    },
    {
     "name": "stdout",
     "output_type": "stream",
     "text": [
      "Model did not improve on epoch: 6 | Train loss: 0.2515537507950683 | Test loss: 0.2749253794839162\n"
     ]
    },
    {
     "name": "stderr",
     "output_type": "stream",
     "text": [
      "Step: 0 | Train loss: 0: 100%|██████████| 4200/4200 [00:14<00:00, 299.28it/s]\n",
      "Step: 0 | Test loss: 0: 100%|██████████| 1050/1050 [00:01<00:00, 707.92it/s]\n",
      " 80%|████████  | 8/10 [02:07<00:30, 15.35s/it]"
     ]
    },
    {
     "name": "stdout",
     "output_type": "stream",
     "text": [
      "Model did not improve on epoch: 7 | Train loss: 0.24707590051078504 | Test loss: 0.2788832645807859\n"
     ]
    },
    {
     "name": "stderr",
     "output_type": "stream",
     "text": [
      "Step: 0 | Train loss: 0: 100%|██████████| 4200/4200 [00:13<00:00, 303.78it/s]\n",
      "Step: 0 | Test loss: 0: 100%|██████████| 1050/1050 [00:01<00:00, 711.48it/s]\n",
      " 90%|█████████ | 9/10 [02:22<00:15, 15.34s/it]"
     ]
    },
    {
     "name": "stdout",
     "output_type": "stream",
     "text": [
      "Model did not improve on epoch: 8 | Train loss: 0.24263886714293179 | Test loss: 0.2791783282426851\n"
     ]
    },
    {
     "name": "stderr",
     "output_type": "stream",
     "text": [
      "Step: 0 | Train loss: 0: 100%|██████████| 4200/4200 [00:13<00:00, 307.56it/s]\n",
      "Step: 0 | Test loss: 0: 100%|██████████| 1050/1050 [00:01<00:00, 752.77it/s]\n",
      "100%|██████████| 10/10 [02:37<00:00, 15.74s/it]"
     ]
    },
    {
     "name": "stdout",
     "output_type": "stream",
     "text": [
      "Model did not improve on epoch: 9 | Train loss: 0.23945006547185282 | Test loss: 0.2835142897242414\n"
     ]
    },
    {
     "name": "stderr",
     "output_type": "stream",
     "text": [
      "\n"
     ]
    }
   ],
   "source": [
    "# define train variables\n",
    "epochs = 10\n",
    "\n",
    "device =  torch.device(\"cuda\") if torch.cuda.is_available() else torch.device(\"cpu\")\n",
    "\n",
    "model = ImageClassifer(image_width=28, image_height=28, num_classes=10).to(device=device)\n",
    "\n",
    "optimizer = torch.optim.AdamW(params=model.parameters(), lr=2e-5)\n",
    "loss_fn = nn.CrossEntropyLoss()\n",
    "\n",
    "best_loss = 10000000\n",
    "\n",
    "print(\"START TRAINING\")\n",
    "print(\"---------\")\n",
    "\n",
    "for epoch in tqdm(range(epochs)):\n",
    "    train_epoch_loss = train_one_epoch(model=model, loader=train_loader, optimizer=optimizer, loss_fn=loss_fn, device=device)\n",
    "    test_epoch_loss = test_one_epoch(model=model, loader=test_loader, loss_fn=loss_fn, device=device)\n",
    "\n",
    "    if test_epoch_loss < best_loss:\n",
    "        print(f\"Model improved on epoch: {epoch} | Train loss: {train_epoch_loss} | Test loss: {test_epoch_loss}\")\n",
    "        best_loss = test_epoch_loss\n",
    "    else:\n",
    "        print(f\"Model did not improve on epoch: {epoch} | Train loss: {train_epoch_loss} | Test loss: {test_epoch_loss}\")"
   ]
  },
  {
   "cell_type": "code",
   "execution_count": null,
   "metadata": {},
   "outputs": [],
   "source": [
    "model_iteration = 0\n",
    "torch.save(model.state_dict(), f\"./model/model_{str(model_iteration).zfill(5)}.pt\") # saving the trained model"
   ]
  },
  {
   "cell_type": "markdown",
   "metadata": {},
   "source": [
    "# 6. Running inference with our model\n",
    "\n",
    "After our model has been trained, we can now use it to predict what is written on the images. To do this, we first put the model in inference mode. Then, we pass it the image array and finally, we convert its input into a final choice using $argmax$ since the output of the model is an array of chioces where the largest element is what the model thinks the image is."
   ]
  },
  {
   "cell_type": "code",
   "execution_count": 22,
   "metadata": {},
   "outputs": [],
   "source": [
    "import math"
   ]
  },
  {
   "cell_type": "code",
   "execution_count": 24,
   "metadata": {},
   "outputs": [],
   "source": [
    "# the def keyword is how we define a function in Python. Inside the parenthesis are arguments that is pass to the functions. Default arguments can be initialized using the = operator\n",
    "\n",
    "def inference(model : ImageClassifer, image, device = torch.device(\"cuda\")):\n",
    "    model.eval()\n",
    "\n",
    "    image = image.to(device)\n",
    "\n",
    "    # this output is an array of 10 numbers, each numbers represent how confidence the model is that the image represents the digit of that index\n",
    "    output = model(image)\n",
    "    \n",
    "    # this is to get the index of the largest number, which is also the choice that the model is most confident in\n",
    "    output_argmax = torch.argmax(output, dim=-1)\n",
    "\n",
    "    return output_argmax"
   ]
  },
  {
   "cell_type": "code",
   "execution_count": 20,
   "metadata": {},
   "outputs": [
    {
     "name": "stdout",
     "output_type": "stream",
     "text": [
      "test image shape:  torch.Size([8, 28, 28])\n",
      "test label shape:  torch.Size([8])\n"
     ]
    }
   ],
   "source": [
    "test_images, test_labels = next(iter(test_loader))\n",
    "\n",
    "print(\"test image shape: \", test_images.shape)\n",
    "print(\"test label shape: \", test_labels.shape)"
   ]
  },
  {
   "cell_type": "code",
   "execution_count": null,
   "metadata": {},
   "outputs": [
    {
     "name": "stdout",
     "output_type": "stream",
     "text": [
      "model output:  tensor([9, 8, 5, 1, 6, 1, 4, 7], device='cuda:0')\n"
     ]
    }
   ],
   "source": [
    "output = inference(model, test_images)\n",
    "print(\"model output: \", output) # each number in this array is the model's prediction for what the image at that index is representing. For example, at image position 0, the model thinks it is the number 9"
   ]
  },
  {
   "cell_type": "code",
   "execution_count": 51,
   "metadata": {},
   "outputs": [],
   "source": [
    "def plot(images, choices):\n",
    "    assert images.shape[0] == choices.shape[0], print(\"Error, the number of images and the number of predictions is not matching\")\n",
    "\n",
    "    max_col = 4\n",
    "    array_length = choices.shape[0] \n",
    "    nrows = math.floor(array_length / 4) if array_length % 4 == 0 else math.floor(array_length / 4) + 1\n",
    "\n",
    "    fig, axes = plt.subplots(nrows=nrows, ncols=max_col, figsize=(15, 5 * nrows))\n",
    "\n",
    "    for row in range(nrows):\n",
    "        for col in range(4):\n",
    "            index = 4 * row + col\n",
    "\n",
    "            if index < array_length:\n",
    "                axes[row][col].imshow(images[index], cmap=\"gray\")\n",
    "                axes[row, col].set_title(f\"Model predicts: {choices[index]}\")\n",
    "                axes[row][col].axis('off')  # Hide axes for better visualization\n",
    "            else:\n",
    "                axes[row][col].axis('off')\n",
    "\n",
    "    plt.show()"
   ]
  },
  {
   "cell_type": "code",
   "execution_count": 52,
   "metadata": {},
   "outputs": [
    {
     "data": {
      "image/png": "[encoded data removed]",
      "text/plain": [
       "<Figure size 1500x1000 with 8 Axes>"
      ]
     },
     "metadata": {},
     "output_type": "display_data"
    }
   ],
   "source": [
    "plot(images=test_images, choices=output)"
   ]
  },
  {
   "cell_type": "markdown",
   "metadata": {},
   "source": [
    "With just a bit of training, the model's prediction is relatively correct, though we can see it gets confused when the digits are too similar to each other. In real applications, we improve the model's accuracy by doing much more data preprocessing and using a bigger, better model. This ensures the accuracy of the model is high enough to solve the task at hand."
   ]
  }
 ],
 "metadata": {
  "kernelspec": {
   "display_name": "dl",
   "language": "python",
   "name": "python3"
  },
  "language_info": {
   "codemirror_mode": {
    "name": "ipython",
    "version": 3
   },
   "file_extension": ".py",
   "mimetype": "text/x-python",
   "name": "python",
   "nbconvert_exporter": "python",
   "pygments_lexer": "ipython3",
   "version": "3.10.15"
  }
 },
 "nbformat": 4,
 "nbformat_minor": 2
}
