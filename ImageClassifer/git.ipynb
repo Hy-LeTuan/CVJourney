{
 "cells": [
  {
   "cell_type": "markdown",
   "metadata": {},
   "source": [
    "# Version Control   \n",
    "\n",
    "Often times in professional software development, there are multiple teams working on a single project at the same time, and these teams will likely be working on different components of the software.\n",
    "1. This can quickly lead to different versions of the project existing at the same time, where one team might not use the most updated version of the software published by another team that has just completed their part.\n",
    "2. To try and implement new features, teams risk breaking the existing code that is running perfectly fine.\n",
    "3. There is no way of knowing who did what and who contributed to certain part of the software.\n",
    "\n",
    "That is why in today's software sceen, we use a version control tool. A version control tool allows us to solve the problems mentioned above by mantaining the whole history of change of the software. Every change on the software's code will be documented, and the history is stored as a graph where changes causes another node to be added to the graph.\n",
    "\n",
    "This allows developers to branch off at certain time of changes, ensuring that no teams operate on new features that have not been tested. This also allows us to see who did the changes and allows us to have a definitive main version that is stable while also having multiple versions testing out new features, which are all tracked by the version control tool."
   ]
  },
  {
   "cell_type": "markdown",
   "metadata": {},
   "source": [
    "# Git\n",
    "\n",
    "Git is a version control tool developed by Linus Tovalds, and it is completely open source and free. Git is one of the most popular version control tool in the world, and is widely integrated into many different tools.\n",
    "\n",
    "To use Git, we have to install it by navigating to its [website](https://git-scm.com/book/en/v2/Getting-Started-Installing-Git) and installing it according to your operating system. On Windows, I recommend you use the **Chocolatey** package manager, similar to any package manager on a Unix operating system to make the installation process for these tools much easier."
   ]
  },
  {
   "cell_type": "markdown",
   "metadata": {},
   "source": [
    "## Git inside a project\n",
    "\n",
    "Every project using Git has a hidden `.git` folder where it stores the version history, branches and other information for the software to work. To intialize Git in a project, navigate to that project's folder and run the command:\n",
    "```bash\n",
    "git init\n",
    "```\n",
    "This command automatically creates a `.git` folder inside your project and create an emtpy version history for your project, so any changes happening before this command will not be recorded.\n",
    "\n",
    "Git recognizes and records change through a **2 step** process. First, we **stage** the files that we want Git to record. These files are files that was modified by us, and so we want Git to record these changes. Next, we **commit** these files into the version history. After committing these files, the version history will be updated with the changes we have made."
   ]
  },
  {
   "cell_type": "markdown",
   "metadata": {},
   "source": [
    "## Git standard commands\n",
    "\n",
    "### Stage\n",
    "\n",
    "To **stage** a file, we can use the command:\n",
    "```bash\n",
    "git add\n",
    "```\n",
    "the full options of this command are:\n",
    "```shell\n",
    "git add [--verbose | -v] [--dry-run | -n] [--force | -f] [--interactive | -i] [--patch | -p] [--edit | -e] [--[no-]all | -A | --[no-]ignore-removal | [--update | -u]] [--sparse] [--intent-to-add | -N] [--refresh] [--ignore-errors] [--ignore-missing] [--renormalize] [--chmod=(+|-)x] [--pathspec-from-file=<file> [--pathspec-file-nul]] [--] [<pathspec>…​]\n",
    "```\n",
    "but we will mostly be using it to add every file we have changed within the current directory with:\n",
    "```bash\n",
    "git add .\n",
    "```\n",
    "or by staging 1 file at a time with:\n",
    "```\n",
    "git add <filename>\n",
    "```\n",
    "\n",
    "### Commit\n",
    "\n",
    "To **commit** the files you have staged into the version history, we can use the command:\n",
    "```bash\n",
    "git commit -m \"Required message\"\n",
    "```\n",
    "where the `-m` flag is where you put the commit message. This flag is a required flag as any changes committed into the software's history has to have a message explaining what the changes do. There are many best practices to look for how to commit files, how many files to commit at the same time and how to write a commit message. However, the most intuitive way of thinking about it is that every commit **has a single purpose** and that changes should only serve this purpose and nothing else."
   ]
  },
  {
   "cell_type": "markdown",
   "metadata": {},
   "source": [
    "# Ignore files with Git ignore\n",
    "\n",
    "Sometimes, there are files where you do not want Git to track. These files are often files that will not be touched, like `datasets` or any `editor config` that is different for every developers. To do that, we can create a `.gitignore` file and specify the files we do not want Git to track inside.\n",
    "\n",
    "For example, I have a `dataset.py` file that i do not want Git to track. This means in my `.gitignore` file, I will declare this file like this:\n",
    "```bash\n",
    "# inside .gitignore\n",
    "dataset.py\n",
    "```\n",
    "I can also tell Git to not track any files starting with the word `dataset` by using a wildcard selector `*`:\n",
    "```bash\n",
    "# inside .gitignore\n",
    "dataset*\n",
    "```\n",
    "\n",
    "**Caution:** This .gitignore file must be created and committed first before you commit anything else, because after a file is committed, there is virtually no way of removing this file out of the commit history."
   ]
  },
  {
   "cell_type": "markdown",
   "metadata": {},
   "source": [
    "# Footnote\n",
    "\n",
    "To visualize Git and how these commits and branches interact, I suggest going to: https://git-school.github.io/visualizing-git/ and try it out yourself."
   ]
  }
 ],
 "metadata": {
  "kernelspec": {
   "display_name": "dl",
   "language": "python",
   "name": "python3"
  },
  "language_info": {
   "name": "python",
   "version": "3.10.16"
  }
 },
 "nbformat": 4,
 "nbformat_minor": 2
}
